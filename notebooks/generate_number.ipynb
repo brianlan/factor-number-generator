{
 "cells": [
  {
   "cell_type": "code",
   "execution_count": 2,
   "id": "51fbfb95-bc8d-4e03-aff9-c9ce90007ec0",
   "metadata": {},
   "outputs": [],
   "source": [
    "import sys; sys.path.append(\"..\")\n",
    "from typing import List, Tuple\n",
    "from functools import reduce\n",
    "from pathlib import Path\n",
    "\n",
    "import pprint\n",
    "import numpy as np\n",
    "import matplotlib.pyplot as plt\n",
    "\n",
    "from src.functional import get_factors"
   ]
  },
  {
   "cell_type": "code",
   "execution_count": 3,
   "id": "a281a2e2-5e9e-4c04-88bc-450255cdbdca",
   "metadata": {},
   "outputs": [],
   "source": [
    "default_colormap = {\n",
    "    1: 'gray',\n",
    "    2: np.array([253, 172, 43]) / 255.0,\n",
    "    3: np.array([130, 190, 90]) / 255.0,\n",
    "    5: np.array([102, 185, 247]) / 255.0, \n",
    "    7: np.array([150, 113, 194]) / 255.0,\n",
    "}\n",
    "    \n",
    "\n",
    "def draw_number_circle(number: int, colormap: dict = default_colormap, other_color='red', use_tqdm=False, ax=None):\n",
    "    factors = get_factors(number, use_tqdm=use_tqdm)\n",
    "    factors = sorted(factors.items(), key=lambda x: x[0])\n",
    "#     print(factors)\n",
    "\n",
    "    def _get_colors_and_labels():\n",
    "        try:\n",
    "            colors = reduce(list.__add__, [[colormap.get(fctr, other_color)] * cnt for fctr, cnt in factors if fctr != 1])\n",
    "            labels = reduce(list.__add__, [[str(fctr)] * cnt for fctr, cnt in factors if fctr != 1])\n",
    "        except TypeError:\n",
    "            colors, labels = [colormap.get(1)], ['']\n",
    "        if len(labels) == 1:\n",
    "            labels[0] = ''\n",
    "        return colors, labels\n",
    "\n",
    "    colors, labels = _get_colors_and_labels()\n",
    "    \n",
    "    if ax is None:\n",
    "        _, ax = plt.subplots(figsize=(6, 6))\n",
    "    ax.axis('equal')  # Equal aspect ratio ensures that pie is drawn as a circle.\n",
    "#     ax.axis([-5, 5, -5, 5])\n",
    "\n",
    "    # draw pie chart as outer ring\n",
    "    wedges, _ = ax.pie(\n",
    "        [1] * len(colors), \n",
    "        colors=colors, \n",
    "        labeldistance=0.7, \n",
    "        labels=labels, \n",
    "        startangle=90, \n",
    "        textprops={'color': 'white', 'size': 18, 'fontweight': 'bold', 'fontfamily': 'Trebuchet MS'},\n",
    "        wedgeprops={'edgecolor': 'white', 'linewidth': 5, 'antialiased': True},\n",
    "    )\n",
    "    \n",
    "    # draw centural inner white circle\n",
    "    c = plt.Circle((0, 0), 0.5, color='white')\n",
    "    ax.add_artist(c)\n",
    "    \n",
    "    # draw number\n",
    "    size = 48\n",
    "    if number < 10:\n",
    "        text_x_offset = -0.11\n",
    "    elif 10 <= number < 100:\n",
    "        text_x_offset = -0.21\n",
    "    elif 100 <= number < 1000:\n",
    "        text_x_offset = -0.32\n",
    "    else:\n",
    "        text_x_offset = -0.4\n",
    "        size = 24\n",
    "    t = plt.Text(text_x_offset, -0.14, str(number), size=size, fontfamily='Trebuchet MS', fontweight='bold')\n",
    "    ax.add_artist(t)\n",
    "\n",
    "    return ax"
   ]
  },
  {
   "cell_type": "code",
   "execution_count": 4,
   "id": "fa42cf84-558b-4434-9d52-6aae36592377",
   "metadata": {},
   "outputs": [
    {
     "data": {
      "image/png": "[encoded data removed]",
      "text/plain": [
       "<Figure size 432x432 with 1 Axes>"
      ]
     },
     "metadata": {},
     "output_type": "display_data"
    }
   ],
   "source": [
    "fig = draw_number_circle(2)"
   ]
  },
  {
   "cell_type": "markdown",
   "id": "5ea61049-08ab-42a9-beaf-82695b9b9dc2",
   "metadata": {},
   "source": [
    "### Save individual number to filesystem"
   ]
  },
  {
   "cell_type": "code",
   "execution_count": 48,
   "id": "26fc3134-ff59-4775-b7ef-3dbcbfc9c2e5",
   "metadata": {},
   "outputs": [],
   "source": [
    "output_dir = Path('output')\n",
    "output_dir.mkdir(parents=True, exist_ok=True)"
   ]
  },
  {
   "cell_type": "code",
   "execution_count": null,
   "id": "bb804e88-c06c-4040-ab05-cc35ab7edc8d",
   "metadata": {},
   "outputs": [],
   "source": [
    "for i in range(1, 101):\n",
    "    _ = draw_number_circle(i)\n",
    "    plt.savefig(output_dir / f'{i:02}.svg', transparent=True)\n",
    "    plt.close()"
   ]
  },
  {
   "cell_type": "markdown",
   "id": "5d2a958f-c47a-4781-bd16-09573e70286c",
   "metadata": {},
   "source": [
    "### Make a layout for printing"
   ]
  },
  {
   "cell_type": "code",
   "execution_count": null,
   "id": "71c517f0-8772-4d73-b6f3-82fbc5d33122",
   "metadata": {},
   "outputs": [],
   "source": [
    "# nrows, ncols = 20, 5\n",
    "# max_numbers = 100\n",
    "nrows, ncols = 3, 5\n",
    "max_numbers = 15\n",
    "fig, axes = plt.subplots(figsize=(ncols * 6, nrows * 8), nrows=nrows, ncols=ncols)\n",
    "plt.tight_layout()\n",
    "n = 0\n",
    "while n < max_numbers:\n",
    "    row, col = n // ncols, n % ncols\n",
    "    draw_number_circle(n + 1, ax=axes[row][col])\n",
    "    frame = plt.Rectangle((-1.3, -1.8), 2.6, 3.6, fill=False, linewidth=3)\n",
    "    axes[row][col].add_artist(frame)\n",
    "    axes[row][col].axis([-1.6, 1.6, -2.1, 2.1])\n",
    "    n += 1\n",
    "\n",
    "save_path = Path(f\"1-{max_numbers}.svg\")\n",
    "save_path.parent.mkdir(parents=True, exist_ok=True)\n",
    "plt.savefig(save_path, transparent=True)"
   ]
  },
  {
   "cell_type": "code",
   "execution_count": null,
   "id": "cacc9cc0-5e3f-40bf-9f37-6be5fb80ed51",
   "metadata": {},
   "outputs": [],
   "source": []
  }
 ],
 "metadata": {
  "kernelspec": {
   "display_name": "Python 3",
   "language": "python",
   "name": "python3"
  },
  "language_info": {
   "codemirror_mode": {
    "name": "ipython",
    "version": 3
   },
   "file_extension": ".py",
   "mimetype": "text/x-python",
   "name": "python",
   "nbconvert_exporter": "python",
   "pygments_lexer": "ipython3",
   "version": "3.9.1rc1"
  }
 },
 "nbformat": 4,
 "nbformat_minor": 5
}
